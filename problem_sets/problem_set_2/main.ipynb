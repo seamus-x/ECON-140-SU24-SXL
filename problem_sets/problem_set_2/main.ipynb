{
 "cells": [
  {
   "attachments": {},
   "cell_type": "markdown",
   "id": "9a915c6f",
   "metadata": {},
   "source": [
    "# ECON 140 - Problem Set 2 - Part A\n",
    "\n",
    "## INSTRUCTIONS\n",
    "\n",
    "Please step through this problem set, copying and pasting code as needed, and run the code to produce output. You may need to complete, fix, or write your own code. For non-coding questions, you should type something in the space provided below to organize your thoughts on the answer."
   ]
  },
  {
   "cell_type": "markdown",
   "id": "85f1b4d7",
   "metadata": {},
   "source": [
    "## Classical Inference"
   ]
  },
  {
   "cell_type": "markdown",
   "id": "729e3d9d",
   "metadata": {},
   "source": [
    "Let's begin with a review of sampling distribution with an exercise of a Monte Carlo simulation. You may write and run the code either here in the space provided below, in R Studio, or elsewhere on your own.\n",
    "\n",
    "For this exercise, we will be once again looking at RCTs in a simulated setting. The outcome for each individual in a randomized control trial is determined by the following process\n",
    "$$\n",
    "y_i = E[y_{i0}] + (E[y_{i1}] - E[y_{i0}]) \\times D_i + \\varepsilon_i\n",
    "$$\n",
    "\n",
    "where average treatment effect $\\text{ATE} = E[y_{i1}] - E[y_{i0}]$ is estimated by $\\hat{\\text{ATE}} = \\bar{y}_{i1} - \\bar{y}_{i0}$.\n",
    "\n",
    "Now, let's define the parameters for the data generating process\n",
    "* $E[y_{i0}] = 5$\n",
    "* $\\text{ATE} = 2$\n",
    "* $\\varepsilon_i \\stackrel{iid}{\\sim} N(0, 9)$ Hint: $\\sigma_{\\varepsilon}^2 = 9 \\implies  \\sigma_{\\varepsilon} = \\sqrt{\\sigma_{\\varepsilon}^2} = 3$\n",
    "\n",
    "... and the parameters for the RCT Monte Carlo simulation:\n",
    "* Sample size: 32\n",
    "* Number of iterations: 1000\n",
    "* Half of the sample should be randomly assigned treatment and the other half control. You may do this roughly (like we've done in class) or exactly (which requires a just slight adjustment, hint: those with the highest 16 random numbers received)."
   ]
  },
  {
   "cell_type": "markdown",
   "id": "aa56a675",
   "metadata": {},
   "source": [
    "a. Based on the provided information, calculate the standard error of the sampling distribution for $\\hat{\\text{ATE}}$ based on the formula derived in A&P Ch.1 Appendix."
   ]
  },
  {
   "cell_type": "markdown",
   "id": "7aa3d52d",
   "metadata": {},
   "source": []
  },
  {
   "cell_type": "markdown",
   "id": "a18b8d5a",
   "metadata": {},
   "source": [
    "b. Write a program that generate treated and untreated outcome data according to the DGP and simulation parameters above, then calculate and save the $\\hat{\\text{ATE}}$ in each of the interations to a vector, then plot its histogram. Your output should consist of a histogram for this task. Set seed if you wish for your code to have replicable results."
   ]
  },
  {
   "cell_type": "code",
   "execution_count": null,
   "id": "52b0ad60",
   "metadata": {
    "vscode": {
     "languageId": "r"
    }
   },
   "outputs": [],
   "source": []
  },
  {
   "cell_type": "markdown",
   "id": "7835c384",
   "metadata": {},
   "source": [
    "c. Use the `sd()` function below to calculate the standard from your vector of estimated ATEs. Compare it to your answer from question a, are they close-ish? If not, check your answer for both a and b."
   ]
  },
  {
   "cell_type": "code",
   "execution_count": null,
   "id": "e83e5595",
   "metadata": {
    "vscode": {
     "languageId": "r"
    }
   },
   "outputs": [],
   "source": []
  },
  {
   "cell_type": "markdown",
   "id": "122f3be7",
   "metadata": {},
   "source": [
    "d. From your vector of estimated ATEs, how many of these produce a rejectable null hypothesis of no effect at $\\alpha = 0.05$ with a two-tailed test? Show with a few lines of code below:"
   ]
  },
  {
   "cell_type": "code",
   "execution_count": null,
   "id": "55066f31",
   "metadata": {
    "vscode": {
     "languageId": "r"
    }
   },
   "outputs": [],
   "source": []
  },
  {
   "cell_type": "markdown",
   "id": "36fb4f4b",
   "metadata": {},
   "source": [
    "## Linear Regression"
   ]
  },
  {
   "attachments": {},
   "cell_type": "markdown",
   "id": "868a10fd",
   "metadata": {},
   "source": [
    "The remaining problem set is partly borrowed from Prof. Ryan Edwards' Fall 2022 Problem Set 2, which will work you through an example of omitted variable bias (OVB). You will examine a dataset showing graduate admission decisions, a dichotomous measure of gender, and academic department from the fall 1973 application cohort. The dataset is described and analyzed by [P. J. Bickel, E. A. Hammel, J. W. O'Connell (1975) “Sex Bias in Graduate Admissions: Data from Berkeley,” Science 187(4175): 398-404](https://www-jstor-org.libproxy.berkeley.edu/stable/1739581) and further described in [David Freedman, Robert Pisani, and Roger Purves (2007) Statistics 4th edition. New York: Norton, pp 17–20](https://www.amazon.com/Statistics-4th-David-Freedman/dp/0393929728). Prof. Edwards created this dataset using the description offered by FPP. There is a \"collapsed\" version of these data in __R__'s preloaded `datasets` package called `UCBAdmissions`."
   ]
  },
  {
   "attachments": {},
   "cell_type": "markdown",
   "id": "45157c24",
   "metadata": {},
   "source": [
    "For kicks, here is an off-the-shelf visualization from `UCBAdmissions` that shows us ... well, it shows us something. The $x$-axis splits people into admitted (left) or rejected (right) columns. Then within each of those columns, we see the split between people who identify as female (bottom) or male (top), so that gender identity is the $y$-variable. "
   ]
  },
  {
   "cell_type": "code",
   "execution_count": null,
   "id": "8537ae6c",
   "metadata": {
    "vscode": {
     "languageId": "r"
    }
   },
   "outputs": [],
   "source": [
    "require(graphics)\n",
    "## Data aggregated over departments\n",
    "apply(UCBAdmissions, c(1, 2), sum)\n",
    "mosaicplot(apply(UCBAdmissions, c(1, 2), sum),\n",
    "           main = \"Student admissions at UC Berkeley\")"
   ]
  },
  {
   "attachments": {},
   "cell_type": "markdown",
   "id": "bfb18722",
   "metadata": {},
   "source": [
    "### Question 1\n",
    "Does it make much sense to specify gender as the $y$-variable here, meaning that the implicit suggestion is to run this regression:   \n",
    "$$\n",
    "gender_i = \\alpha + \\beta \\cdot admit_i + \\epsilon_i\n",
    "$$\n",
    "where the variable $admit_i$ is like a 0/1 treatment <u>that causes</u> the variable $gender_i$?\n",
    "State yes or no and briefly defend your answer.\n"
   ]
  },
  {
   "attachments": {},
   "cell_type": "markdown",
   "id": "834d05f8",
   "metadata": {},
   "source": []
  },
  {
   "attachments": {},
   "cell_type": "markdown",
   "id": "ec3be61b",
   "metadata": {},
   "source": [
    "<hr>"
   ]
  },
  {
   "attachments": {},
   "cell_type": "markdown",
   "id": "1e470ac3",
   "metadata": {},
   "source": [
    "### Multivariate Analysis"
   ]
  },
  {
   "attachments": {},
   "cell_type": "markdown",
   "id": "6e652245",
   "metadata": {},
   "source": [
    "Below is the reconstructed data file. Nothing fancy, mostly zeros and ones. There are a total of 4,486 observations arrayed across 6 departments. The call to `table()` pulls the counts by department and labels them nicely."
   ]
  },
  {
   "cell_type": "code",
   "execution_count": null,
   "id": "c8694ada",
   "metadata": {
    "vscode": {
     "languageId": "r"
    }
   },
   "outputs": [],
   "source": [
    "# Install package \"haven\" if not already.\n",
    "if(!(\"haven\" %in% installed.packages()[, 1])) install.packages(\"haven\") \n",
    "\n",
    "# Load and summarize our dataset\n",
    "ucbadmit <- haven::read_dta(\"ucbadmit.dta\")\n",
    "head(ucbadmit)\n",
    "table(ucbadmit$deptchar)"
   ]
  },
  {
   "attachments": {},
   "cell_type": "markdown",
   "id": "def5ff7d",
   "metadata": {},
   "source": [
    "There are six departments here, blinded for privacy purposes, labeled A through F. It would be useful to have indicator variables that tell us which of these \"treatment arms\" an individual is in. Let's create these indicator variables:"
   ]
  },
  {
   "cell_type": "code",
   "execution_count": null,
   "id": "6f04b8b6",
   "metadata": {
    "vscode": {
     "languageId": "r"
    }
   },
   "outputs": [],
   "source": [
    "ucbadmit$deptA <- ifelse(ucbadmit$deptchar == \"A\", 1, 0)\n",
    "ucbadmit$deptB <- ifelse(ucbadmit$deptchar == \"B\", 1, 0)\n",
    "ucbadmit$deptC <- ifelse(ucbadmit$deptchar == \"C\", 1, 0)\n",
    "ucbadmit$deptD <- ifelse(ucbadmit$deptchar == \"D\", 1, 0)\n",
    "ucbadmit$deptE <- ifelse(ucbadmit$deptchar == \"E\", 1, 0)\n",
    "ucbadmit$deptF <- ifelse(ucbadmit$deptchar == \"F\", 1, 0)"
   ]
  },
  {
   "attachments": {},
   "cell_type": "markdown",
   "id": "baa7b81e",
   "metadata": {},
   "source": [
    "Normally `factor(deptchar)` in the `lm()` formula would do the job of automatically creating a set of dummy variables based on a categorical variable and then omit one for the regression, but here we are creating these dummies manually as to have greater control over them later.\n",
    "\n",
    "Let's begin to analyze these data. The visualization above is helpful, provided you can get your head around how the $x$ and $y$ axes seem like they are reversed. Let's instead run a regression using `lm()` that shows the relationship between $y = admitted$, a 0/1 indicator variable for being admitted to UC Berkeley, and $x = female$, a 0/1 indicator for female gender identity:\n",
    "\n",
    "$$\n",
    "admitted_i = \\alpha + \\beta \\cdot female_i + \\epsilon_i\n",
    "$$"
   ]
  },
  {
   "attachments": {},
   "cell_type": "markdown",
   "id": "35d6bc5e",
   "metadata": {},
   "source": [
    "### Complete the code below and run it.\n"
   ]
  },
  {
   "cell_type": "code",
   "execution_count": null,
   "id": "85c4b328",
   "metadata": {
    "vscode": {
     "languageId": "r"
    }
   },
   "outputs": [],
   "source": [
    "ucb_shortreg <- lm( FILL IN CORRECT CODE HERE, data = ucbadmit)\n",
    "summary(ucb_shortreg)"
   ]
  },
  {
   "attachments": {},
   "cell_type": "markdown",
   "id": "383c9edf",
   "metadata": {},
   "source": [
    "### Question 2\n",
    "Look at the regression output above and describe what you see. What is the average admission rate for males? In this simple regression, what is the average effect on the admission rate of being female? Is the effect statistically significant? Describe using the reported numbers in the regression output, and also state what you see in descriptive sentences where you refer to the percentages revealed by the reported numbers. \n"
   ]
  },
  {
   "attachments": {},
   "cell_type": "markdown",
   "id": "b5d79365",
   "metadata": {},
   "source": []
  },
  {
   "attachments": {},
   "cell_type": "markdown",
   "id": "e5a0e189",
   "metadata": {},
   "source": [
    "<hr>"
   ]
  },
  {
   "attachments": {},
   "cell_type": "markdown",
   "id": "d4154513",
   "metadata": {},
   "source": [
    "### Question 3\n",
    "Now translate what you see in the data, in your answer to Question 2, into an informative statement for <b>policy</b> at the University in this era, given that gender equality and diversity are objectives. Write a sentence or two."
   ]
  },
  {
   "attachments": {},
   "cell_type": "markdown",
   "id": "115338d7",
   "metadata": {},
   "source": []
  },
  {
   "attachments": {},
   "cell_type": "markdown",
   "id": "9e64d05f",
   "metadata": {},
   "source": [
    "<hr>"
   ]
  },
  {
   "attachments": {},
   "cell_type": "markdown",
   "id": "1ecceacd",
   "metadata": {},
   "source": [
    "### Question 4\n",
    "The data are fairly sparse, but they also show us the (anonymized) graduate department to which the person applied. Would you expect overall admission rates &mdash; that is, for both genders combined &mdash; admission rates to be the same across university departments, such as the English Department and the Mathematics Department, or would you expect admission rates to differ?"
   ]
  },
  {
   "attachments": {},
   "cell_type": "markdown",
   "id": "b877b528",
   "metadata": {},
   "source": []
  },
  {
   "attachments": {},
   "cell_type": "markdown",
   "id": "91405c6f",
   "metadata": {},
   "source": [
    "<hr>"
   ]
  },
  {
   "attachments": {},
   "cell_type": "markdown",
   "id": "8229a800",
   "metadata": {},
   "source": [
    "### Question 5\n",
    "Suppose you thought admission rates were the same across departments. What would that imply about the gender-specific admission rate that we should see within each department, given what we saw in campus-wide admissions above? Would there be gender equality, or would we see an advantage for men or for women? "
   ]
  },
  {
   "attachments": {},
   "cell_type": "markdown",
   "id": "fd12ffaa",
   "metadata": {},
   "source": []
  },
  {
   "attachments": {},
   "cell_type": "markdown",
   "id": "3d1120e2",
   "metadata": {},
   "source": [
    "<hr>"
   ]
  },
  {
   "attachments": {},
   "cell_type": "markdown",
   "id": "b7bf511d",
   "metadata": {},
   "source": [
    "### Question 6\n",
    "Suppose you thought admission rates were different across departments, so that some departments admitted very few applicants and others admitted more applicants. If this were publicly known, do you have a prior belief about which departments &mdash; those with low admission rates or those with high admission rates &mdash; might receive more male applicants? Or similarly, which departments might receive more female applicants? (The setting here is the 1970s, but the story might well be similar today.)"
   ]
  },
  {
   "attachments": {},
   "cell_type": "markdown",
   "id": "daf7b909",
   "metadata": {},
   "source": []
  },
  {
   "attachments": {},
   "cell_type": "markdown",
   "id": "c45ec847",
   "metadata": {},
   "source": [
    "<hr>"
   ]
  },
  {
   "attachments": {},
   "cell_type": "markdown",
   "id": "81c2f912",
   "metadata": {},
   "source": [
    "Let's push our analysis further by running a regression using `lm()` that includes our binary 0/1 controls for the admitting departments. We need to leave out one of the departments as the default category; let's choose department A for that:\n",
    "\n",
    "$$\n",
    "admitted_i = \\alpha^{M,A} + \\beta \\cdot female_i \n",
    "+ \\gamma^B deptB_i\n",
    "+ \\gamma^C deptC_i\n",
    "+ \\gamma^D deptD_i\n",
    "+ \\gamma^E deptE_i\n",
    "+ \\gamma^F deptF_i\n",
    "+ \\epsilon_i\n",
    "$$\n",
    "\n",
    "When we run this regression, note that the constant term $\\alpha$ becomes the average admission rate for male applicants to department A, the omitted category."
   ]
  },
  {
   "cell_type": "code",
   "execution_count": null,
   "id": "6fd3cfe2",
   "metadata": {
    "vscode": {
     "languageId": "r"
    }
   },
   "outputs": [],
   "source": [
    "ucb_longreg <- lm( FILL IN CORRECT CODE HERE, data = ucbadmit)\n",
    "summary(ucb_longreg)"
   ]
  },
  {
   "attachments": {},
   "cell_type": "markdown",
   "id": "d7ab6907",
   "metadata": {},
   "source": [
    "### Question 7\n",
    "Look at the regression output above and describe what you see. What is the average admission rate for males who applied to department A? What is the average effect on the admission rate of being female? Is the effect statistically significant? What are the effects on admission rates of applying to departments B, C, D, E, and F? Describe using the reported numbers in the regression output, and also state what you see in descriptive sentences where you refer to the percentages revealed by the reported numbers. "
   ]
  },
  {
   "attachments": {},
   "cell_type": "markdown",
   "id": "05d5c008",
   "metadata": {},
   "source": []
  },
  {
   "attachments": {},
   "cell_type": "markdown",
   "id": "a550e7a3",
   "metadata": {},
   "source": [
    "<hr>"
   ]
  },
  {
   "attachments": {},
   "cell_type": "markdown",
   "id": "91a8c1cd",
   "metadata": {},
   "source": [
    "### Question 8\n",
    "Now translate what you see in the data, in your answer to Question 7, into an informative statement for <b>policy</b> at the University in this era, given that gender equality and diversity are objectives. Write a sentence or two."
   ]
  },
  {
   "attachments": {},
   "cell_type": "markdown",
   "id": "2d9bcd32",
   "metadata": {},
   "source": []
  },
  {
   "attachments": {},
   "cell_type": "markdown",
   "id": "ec8c4fc1",
   "metadata": {},
   "source": [
    "<hr>"
   ]
  },
  {
   "attachments": {},
   "cell_type": "markdown",
   "id": "a12ff88a",
   "metadata": {},
   "source": [
    "Recall that in Chapter 1, we often tested for balance in the characteristics of study participants across groups. Here, an equivalent check is to look for differences in the male/female mix of applicants to departments. We can operationalize that by calling `lm()` with an equation that looks like this:\n",
    "\n",
    "$$\n",
    "female_i = \\alpha^A\n",
    "+ \\gamma^B deptB_i\n",
    "+ \\gamma^C deptC_i\n",
    "+ \\gamma^D deptD_i\n",
    "+ \\gamma^E deptE_i\n",
    "+ \\gamma^F deptF_i\n",
    "+ u_i\n",
    "$$\n",
    "\n",
    "where the constant term is now the share of female applicants to department A, the omitted group. Note that this regression would be preposterous on its own; gender identity is not a function of the department to which a person applied! \n",
    "\n",
    "Write and run some code below to estimate that equation."
   ]
  },
  {
   "cell_type": "code",
   "execution_count": null,
   "id": "2dbe67a5",
   "metadata": {
    "vscode": {
     "languageId": "r"
    }
   },
   "outputs": [],
   "source": [
    "female_reg <- lm( FILL IN CORRECT CODE HERE, data = ucbadmit)\n",
    "summary(female_reg)"
   ]
  },
  {
   "attachments": {},
   "cell_type": "markdown",
   "id": "bd03ba32",
   "metadata": {},
   "source": [
    "### Question 9\n",
    "Look at the regression output above and describe what you see. What does the share of female applicants look like across these departments? Is it constant? Describe using the reported numbers in the regression output, and also state what you see in descriptive sentences where you refer to the percentages revealed by the reported numbers. "
   ]
  },
  {
   "attachments": {},
   "cell_type": "markdown",
   "id": "09eab332",
   "metadata": {},
   "source": []
  },
  {
   "attachments": {},
   "cell_type": "markdown",
   "id": "83fe6a45",
   "metadata": {},
   "source": [
    "<hr>"
   ]
  },
  {
   "attachments": {},
   "cell_type": "markdown",
   "id": "9e9ea277",
   "metadata": {},
   "source": [
    "### Question 10\n",
    "Now compare the regression output you looked at for Question 9 to the regression output you looked at for Question 7. What do you see? Where are shares of female applicants higher, in departments with low admission rates, or with high admission rates? Were you correct about this back in Question 6? (If you were incorrect, there is no need to change that answer now. This is part of the journey.)"
   ]
  },
  {
   "attachments": {},
   "cell_type": "markdown",
   "id": "0a6dc188",
   "metadata": {},
   "source": []
  },
  {
   "attachments": {},
   "cell_type": "markdown",
   "id": "2f84dd66",
   "metadata": {},
   "source": [
    "<hr>"
   ]
  },
  {
   "attachments": {},
   "cell_type": "markdown",
   "id": "2f9f30ab",
   "metadata": {},
   "source": [
    "Consider this last sentence written by [Bickel, Hammel, and O’Connell](https://www-jstor-org.libproxy.berkeley.edu/stable/1739581):\n",
    "\n",
    "<blockquote>\n",
    "Women are shunted by their socialization and education toward fields of graduate study that are generally more crowded, less productive of completed degrees, and less well funded, and that frequently offer poorer professional employment prospects.\n",
    "</blockquote>"
   ]
  },
  {
   "attachments": {},
   "cell_type": "markdown",
   "id": "aaffe49c",
   "metadata": {},
   "source": [
    "### Question 11\n",
    "Take a final stand on gender inequality in higher education in 1973, based on these data. Write several sentences in which you weigh what you have found, what you have not found, and what you could have researched with better data."
   ]
  },
  {
   "attachments": {},
   "cell_type": "markdown",
   "id": "62e60bb6",
   "metadata": {},
   "source": []
  },
  {
   "attachments": {},
   "cell_type": "markdown",
   "id": "bd4829a7",
   "metadata": {},
   "source": [
    "<hr>"
   ]
  },
  {
   "attachments": {},
   "cell_type": "markdown",
   "id": "c3b4d286",
   "metadata": {},
   "source": [
    "<h2>Omitted Variable Bias (OVB) formula</h2>"
   ]
  },
  {
   "attachments": {},
   "cell_type": "markdown",
   "id": "46f49975",
   "metadata": {},
   "source": [
    "Part of the challenge here and with other examples is that the omitted variables might be a set of group indicators. If that's true, then an auxiliary regression is not straightforward to run, because we have multiple $y$ variables. (Maybe there's some crazy way of running a vector regression that can be illuminating, but if a Nobel Laureate didn't think it was worth mentioning, then I think we should let that sleeping dog lie!)\n",
    "\n",
    "The following code assigns values to a new variable `deptvar` that equal the coefficients on department indicator variables in the code above, if we ran that correctly. This is a crude but effective way of creating a single variable that magically captures all 5 department \"fixed effects.\"\n",
    "\n",
    "As a check, here's the third element of `ucb_longreg$coefficients`, which should be the coefficient on `deptB`:"
   ]
  },
  {
   "cell_type": "code",
   "execution_count": null,
   "id": "b09a5628",
   "metadata": {
    "vscode": {
     "languageId": "r"
    }
   },
   "outputs": [],
   "source": [
    "ucb_longreg$coefficients[3]"
   ]
  },
  {
   "attachments": {},
   "cell_type": "markdown",
   "id": "a412ed39",
   "metadata": {},
   "source": [
    "Checks out. Now here's some code."
   ]
  },
  {
   "cell_type": "code",
   "execution_count": null,
   "id": "c091cff5",
   "metadata": {
    "vscode": {
     "languageId": "r"
    }
   },
   "outputs": [],
   "source": [
    "ucbadmit$deptvar <- 0\n",
    "ucbadmit[ucbadmit$dept == 2, \"deptvar\"] <- ucb_longreg$coefficients[3]\n",
    "ucbadmit[ucbadmit$dept == 3, \"deptvar\"] <- ucb_longreg$coefficients[4]\n",
    "ucbadmit[ucbadmit$dept == 4, \"deptvar\"] <- ucb_longreg$coefficients[5]\n",
    "ucbadmit[ucbadmit$dept == 5, \"deptvar\"] <- ucb_longreg$coefficients[6]\n",
    "ucbadmit[!(ucbadmit$dept %in% 1:5), \"deptvar\"] <- ucb_longreg$coefficients[7]"
   ]
  },
  {
   "attachments": {},
   "cell_type": "markdown",
   "id": "6411b0ef",
   "metadata": {},
   "source": [
    "Now let's run a second version of the long regression, using this new variable instead of the 5 indicators:"
   ]
  },
  {
   "cell_type": "code",
   "execution_count": null,
   "id": "3d033a8f",
   "metadata": {
    "vscode": {
     "languageId": "r"
    }
   },
   "outputs": [],
   "source": [
    "ucb_longreg2 <- lm(admitted ~ female + deptvar, data = ucbadmit)\n",
    "summary(ucb_longreg2)"
   ]
  },
  {
   "attachments": {},
   "cell_type": "markdown",
   "id": "573b81e8",
   "metadata": {},
   "source": [
    "The result is different only insofar as our constructed `deptvar` shows up with coefficient 1, as one would hope that it would. Recall that in the OVB formula, this coefficient is now $\\lambda = 1$, the coefficient on the omitted variable in the long regression.\n",
    "\n",
    "With one omitted variable in the short regression, `deptvar`, rather than 5, we can also run an auxiliary regression:"
   ]
  },
  {
   "cell_type": "code",
   "execution_count": null,
   "id": "818c327d",
   "metadata": {
    "vscode": {
     "languageId": "r"
    }
   },
   "outputs": [],
   "source": [
    "ucb_auxreg <- lm( FILL IN CORRECT CODE HERE, data = ucbadmit)\n",
    "summary(ucb_auxreg)"
   ]
  },
  {
   "attachments": {},
   "cell_type": "markdown",
   "id": "6d9c588a",
   "metadata": {},
   "source": [
    "Hold this thought. This reveals $\\pi_1$, the coefficient on the \"treatment variable\" of interest in the auxiliary regression.\n",
    "\n",
    "Below is the actual amount of omitted variable bias that we see on $\\beta$, the coefficient on `female`, between the short regression and the long regression:"
   ]
  },
  {
   "cell_type": "code",
   "execution_count": null,
   "id": "4dfda9b0",
   "metadata": {
    "vscode": {
     "languageId": "r"
    }
   },
   "outputs": [],
   "source": [
    "ucb_shortreg$coefficients[2] - ucb_longreg$coefficients[2]"
   ]
  },
  {
   "attachments": {},
   "cell_type": "markdown",
   "id": "fd4d6449",
   "metadata": {},
   "source": [
    "### Question 12\n",
    "Use the OVB formula:\n",
    "    $$OVB = \\pi_1 \\times \\lambda$$\n",
    "    to explain this specific amount of omitted variable bias shown in the output directly above. Explain in words what $\\lambda$ and especially $\\pi_1$ are and what they mean."
   ]
  },
  {
   "attachments": {},
   "cell_type": "markdown",
   "id": "5fd9e8b4",
   "metadata": {},
   "source": []
  },
  {
   "attachments": {},
   "cell_type": "markdown",
   "id": "69834bd9",
   "metadata": {},
   "source": [
    "<hr>"
   ]
  }
 ],
 "metadata": {
  "kernelspec": {
   "display_name": "R",
   "language": "R",
   "name": "ir"
  },
  "language_info": {
   "codemirror_mode": "r",
   "file_extension": ".r",
   "mimetype": "text/x-r-source",
   "name": "R",
   "pygments_lexer": "r",
   "version": "4.0.4"
  }
 },
 "nbformat": 4,
 "nbformat_minor": 5
}
